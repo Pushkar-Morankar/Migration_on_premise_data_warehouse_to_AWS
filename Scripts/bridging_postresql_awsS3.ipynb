{
 "cells": [
  {
   "cell_type": "markdown",
   "metadata": {},
   "source": [
    "#### Saving the file locally (PostgreSQL SQL Query)"
   ]
  },
  {
   "cell_type": "code",
   "execution_count": null,
   "metadata": {
    "vscode": {
     "languageId": "sql"
    }
   },
   "outputs": [],
   "source": [
    "COPY (SELECT * FROM orders where order_date = current_date) TO '..\\Data\\orders.csv' WITH CSV HEADER;\n",
    "COPY (SELECT customer_id, customer_name, segment, country, city, state, postal_code, region FROM customers as c right join orders as o on c.customer_id=o.customer_id  where order_date = current_date) TO '..\\Data\\customers.csv' WITH CSV HEADER;\n",
    "COPY (SELECT product_id, product_name, category, sub_category FROM products as p right join orders as o on p.product_id=o.product_id where order_date = current_date) TO '..\\Data\\products.csv' WITH CSV HEADER;"
   ]
  },
  {
   "cell_type": "markdown",
   "metadata": {},
   "source": [
    "#### Transferring file to aws S3 bucket (AWS CLI)"
   ]
  },
  {
   "cell_type": "code",
   "execution_count": null,
   "metadata": {
    "vscode": {
     "languageId": "powershell"
    }
   },
   "outputs": [],
   "source": [
    "aws s3 cp ..\\Data\\orders.csv s3://your-bucket-name/path/to/file.csv\n",
    "aws s3 cp ..\\Data\\customer.csv s3://your-bucket-name/path/to/file.csv\n",
    "aws s3 cp ..\\Data\\products.csv s3://your-bucket-name/path/to/file.csv"
   ]
  }
 ],
 "metadata": {
  "language_info": {
   "name": "python"
  }
 },
 "nbformat": 4,
 "nbformat_minor": 2
}
