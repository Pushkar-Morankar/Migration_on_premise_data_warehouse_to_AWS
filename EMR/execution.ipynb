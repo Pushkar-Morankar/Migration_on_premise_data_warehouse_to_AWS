{
 "cells": [
  {
   "cell_type": "markdown",
   "metadata": {},
   "source": [
    "#### Linux command to download required jar files "
   ]
  },
  {
   "cell_type": "code",
   "execution_count": null,
   "metadata": {},
   "outputs": [],
   "source": [
    "sudo curl -o /usr/lib/spark/jars/redshift-jdbc42-2.1.0.28.jar https://s3.amazonaws.com/redshift-downloads/drivers/jdbc/2.1.0.28/redshift-jdbc42-2.1.0.28.jar\n",
    "sudo chmod 766 /usr/lib/spark/jars/redshift-jdbc42-2.1.0.28.jar"
   ]
  },
  {
   "cell_type": "markdown",
   "metadata": {},
   "source": [
    "#### Linux to run the py file and upload the data directly to redshift"
   ]
  },
  {
   "cell_type": "code",
   "execution_count": null,
   "metadata": {},
   "outputs": [],
   "source": [
    "spark-submit \\\n",
    "  --jars /usr/lib/spark/jars/redshift-jdbc42-2.1.0.28.jar \\\n",
    "  /home/hadoop/etl.py"
   ]
  }
 ],
 "metadata": {
  "kernelspec": {
   "display_name": "Python 3",
   "language": "python",
   "name": "python3"
  },
  "language_info": {
   "name": "python",
   "version": "3.10.11"
  }
 },
 "nbformat": 4,
 "nbformat_minor": 2
}
